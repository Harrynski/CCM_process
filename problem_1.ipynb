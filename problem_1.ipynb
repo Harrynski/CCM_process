import yfinance as yf
import pandas as pd
import seaborn as sns
import matplotlib.pyplot as plt

def download_stock_data(tickers, start_date, end_date):
    """
    Download historical stock price data for multiple tickers.
    
    Parameters:
    - tickers (list): List of stock ticker symbols
    - start_date (str): Start date for data retrieval (format: 'YYYY-MM-DD')
    - end_date (str): End date for data retrieval (format: 'YYYY-MM-DD')
    
    Returns:
    - DataFrame with adjusted closing prices
    """
    # Download data
    data = yf.download(tickers, start=start_date, end=end_date)
    
    # Extract adjusted closing prices
    prices = data['Adj Close']
    
    return prices

def analyze_stock_correlations(prices):
    """
    Compute and visualize correlation matrix for stock prices.
    
    Parameters:
    - prices (DataFrame): DataFrame of stock prices
    
    Returns:
    - Correlation matrix
    - Generates correlation heatmap
    """
    # Compute correlation matrix
    correlation_matrix = prices.pct_change().corr()
    
    # Create correlation heatmap
    plt.figure(figsize=(12, 10))
    sns.heatmap(correlation_matrix, 
                annot=True,  # Show numeric correlation values
                cmap='coolwarm',  # Color palette
                center=0,  # Center color at 0
                vmin=-1, 
                vmax=1,
                square=True)
    plt.title('Stock Returns Correlation Heatmap')
    plt.tight_layout()
    plt.show()
    
    return correlation_matrix

def main():
    # Example stock tickers (tech companies)
    tickers = [
        'AAPL',  # Apple
        'MSFT',  # Microsoft
        'GOOGL',  # Alphabet
        'AMZN',  # Amazon
        'NVDA',  # NVIDIA
        'META'   # Meta (Facebook)
    ]
    
    # Date range for analysis
    start_date = '2023-01-01'
    end_date = '2024-01-01'
    
    # Download stock prices
    prices = download_stock_data(tickers, start_date, end_date)
    
    # Analyze correlations
    correlation_matrix = analyze_stock_correlations(prices)
    
    # Print detailed correlation insights
    print("\nCorrelation Matrix Details:")
    print(correlation_matrix)
    
    # Identify highest correlated pairs
    print("\nHighest Correlations:")
    corr_unstack = correlation_matrix.unstack()
    top_correlations = corr_unstack[corr_unstack < 1].nlargest(5)
    print(top_correlations)

if __name__ == "__main__":
    main()